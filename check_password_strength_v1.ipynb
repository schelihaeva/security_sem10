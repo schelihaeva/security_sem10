{
 "cells": [
  {
   "cell_type": "code",
   "execution_count": 1,
   "id": "046b4546-b247-4f2d-ac9c-6e3a6f26b08a",
   "metadata": {},
   "outputs": [
    {
     "data": {
      "text/plain": [
       "'hw5: Безопасная разработка приложений\\nНаписать программу на Python, которая проверяет вводимый пользователем пароль на сложность:\\n— не менее 8 символов\\n— наличие прописных и строчных букв\\n— наличие цифр\\nи переводит его в хэш-значение.'"
      ]
     },
     "execution_count": 1,
     "metadata": {},
     "output_type": "execute_result"
    }
   ],
   "source": [
    "'''hw5: Безопасная разработка приложений\n",
    "Написать программу на Python, которая проверяет вводимый пользователем пароль на сложность:\n",
    "— не менее 8 символов\n",
    "— наличие прописных и строчных букв\n",
    "— наличие цифр\n",
    "и переводит его в хэш-значение.'''"
   ]
  },
  {
   "cell_type": "code",
   "execution_count": 2,
   "id": "131396f7-133a-4be1-98cf-f808411b98a3",
   "metadata": {},
   "outputs": [
    {
     "name": "stdout",
     "output_type": "stream",
     "text": [
      "введите пароль:  Russia$2025\n"
     ]
    },
    {
     "name": "stdout",
     "output_type": "stream",
     "text": [
      "Хэш-значение введенного пароля: d3c7a376ccc49243aaf1874f1f93d115ff9946a8d0ccadf74a96e565af9e1fa3\n"
     ]
    }
   ],
   "source": [
    "# version_1\n",
    "import hashlib\n",
    "\n",
    "def get_hash_string(str):\n",
    "    \"\"\"Хеширование строки\"\"\"\n",
    "\n",
    "    hash_str = hashlib.sha256(str.encode())\n",
    "    hex_dig = hash_str.hexdigest()\n",
    "    return f'Хэш-значение введенного пароля: {hex_dig}'\n",
    "\n",
    "\n",
    "while True:\n",
    "    passw = input('введите пароль: ')\n",
    "\n",
    "    if len(passw) < 8:\n",
    "        print('пароль должен быть не менее 8 символов')\n",
    "        continue\n",
    "    if not any(char.isupper() for char in passw):\n",
    "        print('пароль должен содержать не менее одной прописной буквы')\n",
    "        continue\n",
    "    if not any(char.islower() for char in passw):\n",
    "        print('пароль должен содержать не менее одной строчной буквы')\n",
    "        continue\n",
    "    if not any(char.isdigit() for char in passw):\n",
    "        print('пароль должен содержать хотя бы одну цифру')\n",
    "        continue\n",
    "    if not any(char in '!@#$%^&*()' for char in passw):\n",
    "        print('пароль должен содержать не менее одного из следующих спецсимволов:!@#$%^&*()_+')\n",
    "        continue\n",
    "    else:\n",
    "        break\n",
    "\n",
    "print(get_hash_string(passw))"
   ]
  },
  {
   "cell_type": "code",
   "execution_count": null,
   "id": "f002e029-6e24-4dc8-8896-be90178205c0",
   "metadata": {},
   "outputs": [],
   "source": []
  }
 ],
 "metadata": {
  "kernelspec": {
   "display_name": "Python 3",
   "language": "python",
   "name": "python3"
  },
  "language_info": {
   "codemirror_mode": {
    "name": "ipython",
    "version": 3
   },
   "file_extension": ".py",
   "mimetype": "text/x-python",
   "name": "python",
   "nbconvert_exporter": "python",
   "pygments_lexer": "ipython3",
   "version": "3.12.1"
  }
 },
 "nbformat": 4,
 "nbformat_minor": 5
}
